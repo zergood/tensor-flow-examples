{
 "cells": [
  {
   "cell_type": "code",
   "execution_count": 124,
   "metadata": {
    "collapsed": true
   },
   "outputs": [],
   "source": [
    "import tensorflow as tf\n",
    "import numpy as np"
   ]
  },
  {
   "cell_type": "markdown",
   "metadata": {},
   "source": [
    "Load data:"
   ]
  },
  {
   "cell_type": "code",
   "execution_count": 125,
   "metadata": {
    "collapsed": false
   },
   "outputs": [
    {
     "name": "stdout",
     "output_type": "stream",
     "text": [
      "Extracting /tmp/data/train-images-idx3-ubyte.gz\n",
      "Extracting /tmp/data/train-labels-idx1-ubyte.gz\n",
      "Extracting /tmp/data/t10k-images-idx3-ubyte.gz\n",
      "Extracting /tmp/data/t10k-labels-idx1-ubyte.gz\n"
     ]
    }
   ],
   "source": [
    "import input_data\n",
    "mnist = input_data.read_data_sets(\"/tmp/data/\", one_hot=True)"
   ]
  },
  {
   "cell_type": "markdown",
   "metadata": {},
   "source": [
    "Traning params:"
   ]
  },
  {
   "cell_type": "code",
   "execution_count": 126,
   "metadata": {
    "collapsed": true
   },
   "outputs": [],
   "source": [
    "learningRate = 0.01\n",
    "batchSize = 100\n",
    "train_epoch = 35"
   ]
  },
  {
   "cell_type": "markdown",
   "metadata": {},
   "source": [
    "Task params:"
   ]
  },
  {
   "cell_type": "code",
   "execution_count": 127,
   "metadata": {
    "collapsed": true
   },
   "outputs": [],
   "source": [
    "nInput = 784\n",
    "nClasses = 10\n",
    "dropout = 0.75"
   ]
  },
  {
   "cell_type": "markdown",
   "metadata": {},
   "source": [
    "Variables:"
   ]
  },
  {
   "cell_type": "code",
   "execution_count": 128,
   "metadata": {
    "collapsed": true
   },
   "outputs": [],
   "source": [
    "X = tf.placeholder(tf.float32, [None, nInput])\n",
    "Y = tf.placeholder(tf.float32, [None, nClasses])\n",
    "keep_prob = tf.placeholder(tf.types.float32)"
   ]
  },
  {
   "cell_type": "code",
   "execution_count": 129,
   "metadata": {
    "collapsed": false
   },
   "outputs": [],
   "source": [
    "weights = {\n",
    "    'w1' : tf.Variable(tf.random_normal([5, 5, 1, 32])),\n",
    "    'fc' : tf.Variable(tf.random_normal([14*14*32, 1024])),\n",
    "    'out' : tf.Variable(tf.random_normal([1024, nClasses]))\n",
    "}"
   ]
  },
  {
   "cell_type": "markdown",
   "metadata": {},
   "source": [
    "Build convolutional neural network:"
   ]
  },
  {
   "cell_type": "code",
   "execution_count": 130,
   "metadata": {
    "collapsed": false
   },
   "outputs": [],
   "source": [
    "reshapedX = tf.reshape(X, shape=[-1, 28, 28, 1])\n",
    "conv1 = tf.nn.relu(tf.nn.conv2d(reshapedX, weights['w1'], strides=[1, 1, 1, 1], padding='SAME'))\n",
    "conv1 = tf.nn.max_pool(conv1 , ksize=[1, 2, 2, 1], strides=[1, 2, 2, 1], padding='SAME')\n",
    "conv1 = tf.nn.dropout(conv1, keep_prob)\n",
    "\n",
    "dense1 = tf.reshape(conv1, [-1, weights['fc'].get_shape().as_list()[0]]) \n",
    "\n",
    "dense1 = tf.nn.relu(tf.matmul(dense1, weights['fc']))\n",
    "dense1 = tf.nn.dropout(dense1, keep_prob)\n",
    "pred = tf.matmul(dense1, weights['out'])"
   ]
  },
  {
   "cell_type": "markdown",
   "metadata": {},
   "source": [
    "Determine cost function:"
   ]
  },
  {
   "cell_type": "code",
   "execution_count": 131,
   "metadata": {
    "collapsed": false
   },
   "outputs": [],
   "source": [
    "cost = tf.reduce_mean(tf.nn.softmax_cross_entropy_with_logits(pred, Y))\n",
    "optimizer = tf.train.AdamOptimizer(learning_rate=learningRate).minimize(cost)"
   ]
  },
  {
   "cell_type": "markdown",
   "metadata": {},
   "source": [
    "Measure model accuracy:"
   ]
  },
  {
   "cell_type": "code",
   "execution_count": 132,
   "metadata": {
    "collapsed": false
   },
   "outputs": [],
   "source": [
    "correct_pred = tf.equal(tf.argmax(pred,1), tf.argmax(Y,1))\n",
    "accuracy = tf.reduce_mean(tf.cast(correct_pred, tf.float32))"
   ]
  },
  {
   "cell_type": "markdown",
   "metadata": {},
   "source": [
    "Initialize variables:"
   ]
  },
  {
   "cell_type": "code",
   "execution_count": 133,
   "metadata": {
    "collapsed": true
   },
   "outputs": [],
   "source": [
    "init = tf.initialize_all_variables()\n",
    "saver = tf.train.Saver()"
   ]
  },
  {
   "cell_type": "markdown",
   "metadata": {},
   "source": [
    "Train and save model:"
   ]
  },
  {
   "cell_type": "code",
   "execution_count": 134,
   "metadata": {
    "collapsed": false
   },
   "outputs": [
    {
     "name": "stdout",
     "output_type": "stream",
     "text": [
      "Iter 1, Minibatch Loss= 2013.264404, Training Accuracy= 0.32000\n",
      "Iter 2, Minibatch Loss= 1899.021118, Training Accuracy= 0.45000\n",
      "Iter 3, Minibatch Loss= 1557.091309, Training Accuracy= 0.56000\n",
      "Iter 4, Minibatch Loss= 984.706116, Training Accuracy= 0.60000\n",
      "Iter 5, Minibatch Loss= 1039.350464, Training Accuracy= 0.64000\n",
      "Iter 6, Minibatch Loss= 546.490967, Training Accuracy= 0.69000\n",
      "Iter 7, Minibatch Loss= 379.783478, Training Accuracy= 0.78000\n",
      "Iter 8, Minibatch Loss= 548.776001, Training Accuracy= 0.69000\n",
      "Iter 9, Minibatch Loss= 484.658997, Training Accuracy= 0.74000\n",
      "Iter 10, Minibatch Loss= 278.101471, Training Accuracy= 0.81000\n",
      "Iter 11, Minibatch Loss= 181.372818, Training Accuracy= 0.89000\n",
      "Iter 12, Minibatch Loss= 191.612518, Training Accuracy= 0.84000\n",
      "Iter 13, Minibatch Loss= 532.668213, Training Accuracy= 0.79000\n",
      "Iter 14, Minibatch Loss= 264.792999, Training Accuracy= 0.83000\n",
      "Iter 15, Minibatch Loss= 475.156128, Training Accuracy= 0.84000\n",
      "Iter 16, Minibatch Loss= 177.035416, Training Accuracy= 0.89000\n",
      "Iter 17, Minibatch Loss= 407.502380, Training Accuracy= 0.81000\n",
      "Iter 18, Minibatch Loss= 208.254593, Training Accuracy= 0.85000\n",
      "Iter 19, Minibatch Loss= 754.514221, Training Accuracy= 0.71000\n",
      "Iter 20, Minibatch Loss= 277.514862, Training Accuracy= 0.81000\n",
      "Iter 21, Minibatch Loss= 427.022034, Training Accuracy= 0.77000\n",
      "Iter 22, Minibatch Loss= 284.888794, Training Accuracy= 0.86000\n",
      "Iter 23, Minibatch Loss= 255.383423, Training Accuracy= 0.83000\n",
      "Iter 24, Minibatch Loss= 167.793365, Training Accuracy= 0.92000\n",
      "Iter 25, Minibatch Loss= 224.418549, Training Accuracy= 0.85000\n",
      "Iter 26, Minibatch Loss= 239.289673, Training Accuracy= 0.88000\n",
      "Iter 27, Minibatch Loss= 176.150620, Training Accuracy= 0.84000\n",
      "Iter 28, Minibatch Loss= 210.060211, Training Accuracy= 0.88000\n",
      "Iter 29, Minibatch Loss= 232.700592, Training Accuracy= 0.86000\n",
      "Iter 30, Minibatch Loss= 169.624878, Training Accuracy= 0.87000\n",
      "Iter 31, Minibatch Loss= 97.443939, Training Accuracy= 0.93000\n",
      "Iter 32, Minibatch Loss= 205.374954, Training Accuracy= 0.90000\n",
      "Iter 33, Minibatch Loss= 392.316956, Training Accuracy= 0.83000\n",
      "Iter 34, Minibatch Loss= 49.305035, Training Accuracy= 0.98000\n",
      "Optimization Finished!\n",
      "Testing Accuracy: 0.921875\n"
     ]
    }
   ],
   "source": [
    "display_step = 1\n",
    "\n",
    "with tf.Session() as sess:\n",
    "    sess.run(init)\n",
    "    step = 1\n",
    "    \n",
    "    while step < train_epoch:\n",
    "        batch_xs, batch_ys = mnist.train.next_batch(batchSize)\n",
    "        \n",
    "        sess.run(optimizer, feed_dict = {X: batch_xs, Y: batch_ys, keep_prob: dropout})\n",
    "        \n",
    "        if step % display_step == 0:\n",
    "            acc = sess.run(accuracy, feed_dict={X: batch_xs, Y: batch_ys, keep_prob: 1.})\n",
    "            loss = sess.run(cost, feed_dict={X: batch_xs, Y: batch_ys, keep_prob: 1.})\n",
    "            print \"Iter \" + str(step) + \", Minibatch Loss= \" + \\\n",
    "                  \"{:.6f}\".format(loss) + \", Training Accuracy= \" + \"{:.5f}\".format(acc)\n",
    "        step += 1\n",
    "    print \"Optimization Finished!\"\n",
    "    print \"Testing Accuracy:\", sess.run(accuracy, feed_dict={X: mnist.test.images[:256], \n",
    "                                                             Y: mnist.test.labels[:256], \n",
    "                                                             keep_prob: 1.})\n",
    "    \n",
    "    save_path = saver.save(sess, \"/tmp/model.ckpt\")"
   ]
  },
  {
   "cell_type": "markdown",
   "metadata": {},
   "source": [
    "Manual test:"
   ]
  },
  {
   "cell_type": "code",
   "execution_count": 135,
   "metadata": {
    "collapsed": false
   },
   "outputs": [
    {
     "name": "stdout",
     "output_type": "stream",
     "text": [
      "[1]\n"
     ]
    },
    {
     "data": {
      "image/png": "[encoded data removed]",
      "text/plain": [
       "<matplotlib.figure.Figure at 0x7f0bb3340c10>"
      ]
     },
     "metadata": {},
     "output_type": "display_data"
    }
   ],
   "source": [
    "import matplotlib.pyplot as plt\n",
    "%matplotlib inline\n",
    "\n",
    "img = mnist.test.images[5]\n",
    "plt.imshow(img.reshape(28, 28))\n",
    "\n",
    "with tf.Session() as sess:\n",
    "    saver.restore(sess, \"/tmp/model.ckpt\")\n",
    "    print sess.run(tf.argmax(pred, 1), feed_dict = {X: img.reshape(1, 784), keep_prob: 1.})"
   ]
  },
  {
   "cell_type": "code",
   "execution_count": null,
   "metadata": {
    "collapsed": true
   },
   "outputs": [],
   "source": []
  }
 ],
 "metadata": {
  "kernelspec": {
   "display_name": "Python 2",
   "language": "python",
   "name": "python2"
  },
  "language_info": {
   "codemirror_mode": {
    "name": "ipython",
    "version": 2
   },
   "file_extension": ".py",
   "mimetype": "text/x-python",
   "name": "python",
   "nbconvert_exporter": "python",
   "pygments_lexer": "ipython2",
   "version": "2.7.6"
  }
 },
 "nbformat": 4,
 "nbformat_minor": 0
}
