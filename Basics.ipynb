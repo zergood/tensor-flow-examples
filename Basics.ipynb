{
 "cells": [
  {
   "cell_type": "code",
   "execution_count": 1,
   "metadata": {
    "collapsed": true
   },
   "outputs": [],
   "source": [
    "import tensorflow as tf\n",
    "import numpy as np\n",
    "import matplotlib.pyplot as plt"
   ]
  },
  {
   "cell_type": "markdown",
   "metadata": {
    "collapsed": true
   },
   "source": [
    "Basics:"
   ]
  },
  {
   "cell_type": "code",
   "execution_count": 3,
   "metadata": {
    "collapsed": true
   },
   "outputs": [],
   "source": [
    "matrix1 = tf.constant([[3, 3]])\n",
    "matrix2 = tf.constant([[2], [2]])\n",
    "product = tf.matmul(matrix1, matrix2)"
   ]
  },
  {
   "cell_type": "code",
   "execution_count": 4,
   "metadata": {
    "collapsed": false
   },
   "outputs": [
    {
     "name": "stdout",
     "output_type": "stream",
     "text": [
      "[[12]]\n"
     ]
    }
   ],
   "source": [
    "sess = tf.Session()\n",
    "result = sess.run(product)\n",
    "print result"
   ]
  },
  {
   "cell_type": "code",
   "execution_count": 5,
   "metadata": {
    "collapsed": true
   },
   "outputs": [],
   "source": [
    "sess.close()"
   ]
  },
  {
   "cell_type": "markdown",
   "metadata": {},
   "source": [
    "Variables:"
   ]
  },
  {
   "cell_type": "code",
   "execution_count": 6,
   "metadata": {
    "collapsed": true
   },
   "outputs": [],
   "source": [
    "one = tf.constant(1)\n",
    "state = tf.Variable(0, name=\"counter\")\n",
    "new_value = tf.add(state, one)\n",
    "update = tf.assign(state, new_value)"
   ]
  },
  {
   "cell_type": "code",
   "execution_count": 7,
   "metadata": {
    "collapsed": false
   },
   "outputs": [
    {
     "name": "stdout",
     "output_type": "stream",
     "text": [
      "0\n",
      "1\n",
      "2\n",
      "3\n"
     ]
    }
   ],
   "source": [
    "init_op = tf.initialize_all_variables()\n",
    "\n",
    "with tf.Session() as sess:\n",
    "    sess.run(init_op)\n",
    "    \n",
    "    print sess.run(state)\n",
    "    \n",
    "    for _ in range(3):\n",
    "        sess.run(update)\n",
    "        print sess.run(state)"
   ]
  },
  {
   "cell_type": "markdown",
   "metadata": {},
   "source": [
    "Placeholders:"
   ]
  },
  {
   "cell_type": "code",
   "execution_count": 9,
   "metadata": {
    "collapsed": false
   },
   "outputs": [
    {
     "name": "stdout",
     "output_type": "stream",
     "text": [
      "[array([ 200.], dtype=float32)]\n"
     ]
    }
   ],
   "source": [
    "input1 = tf.placeholder(tf.float32)\n",
    "input2 = tf.placeholder(tf.float32)\n",
    "output = tf.mul(input1, input2)\n",
    "\n",
    "with tf.Session() as sess:\n",
    "    print sess.run([output], feed_dict={input1:[20.], \n",
    "                                        input2:[10.]})"
   ]
  },
  {
   "cell_type": "markdown",
   "metadata": {
    "collapsed": true
   },
   "source": [
    "Linear regression:"
   ]
  },
  {
   "cell_type": "code",
   "execution_count": 8,
   "metadata": {
    "collapsed": true
   },
   "outputs": [],
   "source": [
    "# Parameters\n",
    "learning_rate = 0.01\n",
    "training_epochs = 2000\n",
    "display_step = 50"
   ]
  },
  {
   "cell_type": "code",
   "execution_count": 18,
   "metadata": {
    "collapsed": false
   },
   "outputs": [
    {
     "name": "stderr",
     "output_type": "stream",
     "text": [
      "/usr/local/lib/python2.7/dist-packages/matplotlib/collections.py:590: FutureWarning: elementwise comparison failed; returning scalar instead, but in the future will perform elementwise comparison\n",
      "  if self._edgecolors == str('face'):\n"
     ]
    }
   ],
   "source": [
    "# Training Data\n",
    "train_X = np.asarray([3.3,4.4,5.5,6.71,6.93,4.168,9.779,6.182,7.59,2.167,7.042,10.791,5.313,7.997,5.654,9.27,3.1])\n",
    "train_Y = np.asarray([1.7,2.76,2.09,3.19,1.694,1.573,3.366,2.596,2.53,1.221,2.827,3.465,1.65,2.904,2.42,2.94,1.3])\n",
    "n_samples = train_X.shape[0]\n",
    "plt.scatter(train_X, train_Y)\n",
    "plt.show()"
   ]
  },
  {
   "cell_type": "code",
   "execution_count": 10,
   "metadata": {
    "collapsed": true
   },
   "outputs": [],
   "source": [
    "# tf Graph Input\n",
    "X = tf.placeholder(\"float\")\n",
    "Y = tf.placeholder(\"float\")"
   ]
  },
  {
   "cell_type": "code",
   "execution_count": 11,
   "metadata": {
    "collapsed": false
   },
   "outputs": [],
   "source": [
    "# Create Model\n",
    "W = tf.Variable(np.random.rand(), name=\"weight\")\n",
    "b = tf.Variable(np.random.rand(), name=\"bias\")"
   ]
  },
  {
   "cell_type": "code",
   "execution_count": 12,
   "metadata": {
    "collapsed": true
   },
   "outputs": [],
   "source": [
    "output = tf.add(tf.mul(W, X), b)"
   ]
  },
  {
   "cell_type": "code",
   "execution_count": 13,
   "metadata": {
    "collapsed": false
   },
   "outputs": [],
   "source": [
    "cost = tf.reduce_sum(tf.pow(output - Y, 2))/(2*n_samples)\n",
    "optimizer = tf.train.GradientDescentOptimizer(learning_rate).minimize(cost)"
   ]
  },
  {
   "cell_type": "code",
   "execution_count": 14,
   "metadata": {
    "collapsed": true
   },
   "outputs": [],
   "source": [
    "# Initializing the variables\n",
    "init = tf.initialize_all_variables()"
   ]
  },
  {
   "cell_type": "code",
   "execution_count": 15,
   "metadata": {
    "collapsed": false
   },
   "outputs": [
    {
     "name": "stdout",
     "output_type": "stream",
     "text": [
      "Epoch: 0001 cost= 3.718413830 W= 0.722251 b= 0.330842\n",
      "Epoch: 0051 cost= 0.092140228 W= 0.318563 b= 0.305303\n",
      "Epoch: 0101 cost= 0.090386055 W= 0.314461 b= 0.334812\n",
      "Epoch: 0151 cost= 0.088834658 W= 0.310603 b= 0.362566\n",
      "Epoch: 0201 cost= 0.087462611 W= 0.306975 b= 0.38867\n",
      "Epoch: 0251 cost= 0.086249240 W= 0.303562 b= 0.413221\n",
      "Epoch: 0301 cost= 0.085176215 W= 0.300352 b= 0.436311\n",
      "Epoch: 0351 cost= 0.084227264 W= 0.297334 b= 0.458029\n",
      "Epoch: 0401 cost= 0.083388068 W= 0.294494 b= 0.478455\n",
      "Epoch: 0451 cost= 0.082646020 W= 0.291824 b= 0.497666\n",
      "Epoch: 0501 cost= 0.081989825 W= 0.289312 b= 0.515734\n",
      "Epoch: 0551 cost= 0.081409536 W= 0.28695 b= 0.532728\n",
      "Epoch: 0601 cost= 0.080896460 W= 0.284728 b= 0.548711\n",
      "Epoch: 0651 cost= 0.080442734 W= 0.282638 b= 0.563744\n",
      "Epoch: 0701 cost= 0.080041565 W= 0.280673 b= 0.577883\n",
      "Epoch: 0751 cost= 0.079686865 W= 0.278825 b= 0.591181\n",
      "Epoch: 0801 cost= 0.079373211 W= 0.277086 b= 0.60369\n",
      "Epoch: 0851 cost= 0.079095915 W= 0.275451 b= 0.615454\n",
      "Epoch: 0901 cost= 0.078850828 W= 0.273913 b= 0.626516\n",
      "Epoch: 0951 cost= 0.078634165 W= 0.272467 b= 0.63692\n",
      "Epoch: 1001 cost= 0.078442581 W= 0.271106 b= 0.646706\n",
      "Epoch: 1051 cost= 0.078273222 W= 0.269827 b= 0.65591\n",
      "Epoch: 1101 cost= 0.078123510 W= 0.268623 b= 0.664567\n",
      "Epoch: 1151 cost= 0.077991202 W= 0.267492 b= 0.672709\n",
      "Epoch: 1201 cost= 0.077874243 W= 0.266427 b= 0.680366\n",
      "Epoch: 1251 cost= 0.077770889 W= 0.265426 b= 0.687568\n",
      "Epoch: 1301 cost= 0.077679522 W= 0.264485 b= 0.694342\n",
      "Epoch: 1351 cost= 0.077598795 W= 0.263599 b= 0.700714\n",
      "Epoch: 1401 cost= 0.077527463 W= 0.262766 b= 0.706706\n",
      "Epoch: 1451 cost= 0.077464402 W= 0.261982 b= 0.712343\n",
      "Epoch: 1501 cost= 0.077408694 W= 0.261246 b= 0.717643\n",
      "Epoch: 1551 cost= 0.077359505 W= 0.260552 b= 0.722629\n",
      "Epoch: 1601 cost= 0.077316023 W= 0.259901 b= 0.727318\n",
      "Epoch: 1651 cost= 0.077277601 W= 0.259288 b= 0.731729\n",
      "Epoch: 1701 cost= 0.077243701 W= 0.258711 b= 0.735877\n",
      "Epoch: 1751 cost= 0.077213734 W= 0.258168 b= 0.73978\n",
      "Epoch: 1801 cost= 0.077187285 W= 0.257658 b= 0.743448\n",
      "Epoch: 1851 cost= 0.077163912 W= 0.257179 b= 0.7469\n",
      "Epoch: 1901 cost= 0.077143304 W= 0.256728 b= 0.750145\n",
      "Epoch: 1951 cost= 0.077125117 W= 0.256303 b= 0.753199\n",
      "Optimization Finished!\n",
      "cost= 0.0771093 W= 0.255912 b= 0.756014\n"
     ]
    }
   ],
   "source": [
    "# Launch the graph\n",
    "with tf.Session() as sess:\n",
    "    sess.run(init)\n",
    "\n",
    "    # Fit all training data\n",
    "    for epoch in range(training_epochs):\n",
    "        for (x, y) in zip(train_X, train_Y):\n",
    "            sess.run(optimizer, feed_dict={X: x, Y: y})\n",
    "\n",
    "        #Display logs per epoch step\n",
    "        if epoch % display_step == 0:\n",
    "            print \"Epoch:\", '%04d' % (epoch+1), \"cost=\", \\\n",
    "                \"{:.9f}\".format(sess.run(cost, feed_dict={X: train_X, Y:train_Y})), \\\n",
    "                \"W=\", sess.run(W), \"b=\", sess.run(b)\n",
    "\n",
    "    print \"Optimization Finished!\"\n",
    "    print \"cost=\", sess.run(cost, feed_dict={X: train_X, Y: train_Y}), \\\n",
    "          \"W=\", sess.run(W), \"b=\", sess.run(b)\n",
    "\n",
    "    #Graphic display\n",
    "    plt.plot(train_X, train_Y, 'ro', label='Original data')\n",
    "    plt.plot(train_X, sess.run(W) * train_X + sess.run(b), label='Fitted line')\n",
    "    plt.legend()\n",
    "    plt.show()"
   ]
  },
  {
   "cell_type": "code",
   "execution_count": null,
   "metadata": {
    "collapsed": true
   },
   "outputs": [],
   "source": []
  }
 ],
 "metadata": {
  "kernelspec": {
   "display_name": "Python 2",
   "language": "python",
   "name": "python2"
  },
  "language_info": {
   "codemirror_mode": {
    "name": "ipython",
    "version": 2
   },
   "file_extension": ".py",
   "mimetype": "text/x-python",
   "name": "python",
   "nbconvert_exporter": "python",
   "pygments_lexer": "ipython2",
   "version": "2.7.6"
  }
 },
 "nbformat": 4,
 "nbformat_minor": 0
}
